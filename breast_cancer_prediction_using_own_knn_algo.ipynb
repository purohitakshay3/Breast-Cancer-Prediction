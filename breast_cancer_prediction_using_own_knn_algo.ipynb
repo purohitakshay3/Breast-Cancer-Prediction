{
 "cells": [
  {
   "cell_type": "code",
   "execution_count": 1,
   "metadata": {
    "collapsed": true
   },
   "outputs": [],
   "source": [
    "#imports\n",
    "\n",
    "from math import sqrt \n",
    "import numpy as np #For using euclidean distance formula\n",
    "import matplotlib.pyplot as plt\n",
    "import warnings #When user attempts to use an invalid number for k\n",
    "from collections import Counter\n",
    "import pandas as pd\n",
    "import random"
   ]
  },
  {
   "cell_type": "code",
   "execution_count": 2,
   "metadata": {
    "collapsed": true
   },
   "outputs": [],
   "source": [
    "#Algorithm Definition\n",
    "\n",
    "def knn_algo(data, predict, k):\n",
    "    length = len(data)\n",
    "    if length % 2 == 0:\n",
    "        default_k = length + 1\n",
    "    else:\n",
    "        default_k = length + 2\n",
    "    \n",
    "    if k < default_k:\n",
    "        warnings.warn('k is set to value less than total voting groups')\n",
    "    \n",
    "    distances = []\n",
    "    for group in data:\n",
    "        for features in data[group]:\n",
    "            #ed = sqrt((p1[0]-p2[0])**2 + (p1[1]-p2[1])**2)\n",
    "            euclidean_distance = np.sqrt(np.sum((np.array(features)-np.array(predict))**2))\n",
    "            #euclidean_distance = np.linalg.norm(np.array(features)-np.array(predict))\n",
    "            distances.append([euclidean_distance, group])\n",
    "    \n",
    "    votes = []\n",
    "    for group in sorted(distances)[:k]:\n",
    "        votes.append(group[1])\n",
    "    counter = Counter(votes) #Counter({'r': 3})\n",
    "    first_tuple = counter.most_common(1) #[('r', 3)]\n",
    "    result = first_tuple[0][0] #r\n",
    "    \n",
    "    #votes = [i[1] for i in sorted(distances)[:k]]\n",
    "    #print(Counter(votes).most_common(1))\n",
    "    #result = Counter(votes).most_common(1)[0][0]\n",
    "            \n",
    "    return result"
   ]
  },
  {
   "cell_type": "code",
   "execution_count": 18,
   "metadata": {},
   "outputs": [
    {
     "name": "stdout",
     "output_type": "stream",
     "text": [
      "Accuracy: 0.964028776978\n",
      "For features [1.0, 1.0, 1.0, 1.0, 2.0, 1.0, 2.0, 1.0, 1.0], prediction is 2\n",
      "For features [4.0, 1.0, 1.0, 2.0, 2.0, 1.0, 1.0, 1.0, 1.0], prediction is 2\n",
      "For features [1.0, 1.0, 1.0, 1.0, 2.0, 1.0, 2.0, 1.0, 1.0], prediction is 2\n",
      "For features [3.0, 1.0, 1.0, 1.0, 1.0, 1.0, 2.0, 1.0, 1.0], prediction is 2\n",
      "For features [5.0, 1.0, 1.0, 1.0, 2.0, 1.0, 1.0, 1.0, 1.0], prediction is 2\n",
      "For features [5.0, 1.0, 1.0, 1.0, 2.0, 1.0, 2.0, 1.0, 1.0], prediction is 2\n",
      "For features [2.0, 1.0, 1.0, 1.0, 3.0, 1.0, 2.0, 1.0, 1.0], prediction is 2\n",
      "For features [5.0, 1.0, 1.0, 1.0, 2.0, 1.0, 1.0, 1.0, 1.0], prediction is 2\n",
      "For features [3.0, 1.0, 1.0, 1.0, 2.0, 1.0, 1.0, 1.0, 1.0], prediction is 2\n",
      "For features [2.0, 3.0, 1.0, 1.0, 2.0, 1.0, 2.0, 1.0, 1.0], prediction is 2\n"
     ]
    }
   ],
   "source": [
    "df = pd.read_csv('breast-cancer-wisconsin1.data.txt')\n",
    "df.replace('?', -99999, inplace=True) #Treats null values as outliers\n",
    "df.drop(['id'], 1,  inplace=True) #Drop id column\n",
    "\n",
    "full_data = df.astype(float).values.tolist() #all data types to float\n",
    "random.shuffle(full_data)\n",
    "\n",
    "test_size = 0.2\n",
    "train_set = {2:[], 4:[]}\n",
    "test_set = {2:[], 4:[]}\n",
    "train_data = full_data[:-int(test_size*len(full_data))]\n",
    "test_data = full_data[-int(test_size*len(full_data)):]\n",
    "\n",
    "for i in train_data:\n",
    "    train_set[i[-1]].append(i[:-1])\n",
    "    \n",
    "for i in test_data:\n",
    "    test_set[i[-1]].append(i[:-1])\n",
    "\n",
    "correct = 0.0\n",
    "total = 0.0\n",
    "predictions = []\n",
    "\n",
    "for group in test_set:\n",
    "    for data in test_set[group]:\n",
    "        vote = knn_algo(train_set, data, k=5)\n",
    "        if group == vote:\n",
    "            correct += 1\n",
    "        total += 1\n",
    "        temp_dict = {vote:data}\n",
    "        predictions.append(temp_dict)\n",
    "\n",
    "accuracy = correct/total\n",
    "print('Accuracy: {}').format(accuracy)\n",
    "for i in predictions[:10]:\n",
    "    for j in i:\n",
    "        print(\"For features {}, prediction is {}\").format(i[j], j)"
   ]
  }
 ],
 "metadata": {
  "kernelspec": {
   "display_name": "Python 2",
   "language": "python",
   "name": "python2"
  },
  "language_info": {
   "codemirror_mode": {
    "name": "ipython",
    "version": 2
   },
   "file_extension": ".py",
   "mimetype": "text/x-python",
   "name": "python",
   "nbconvert_exporter": "python",
   "pygments_lexer": "ipython2",
   "version": "2.7.14"
  }
 },
 "nbformat": 4,
 "nbformat_minor": 2
}
